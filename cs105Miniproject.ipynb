{
 "cells": [
  {
   "cell_type": "markdown",
   "metadata": {},
   "source": [
    "QUESTION 1: What data do you have?\n",
    "\n",
    "The data that we collected shows us:\n",
    "\n",
    "What is your current GPA?\n",
    "In-Person GPA (fall 2021),\n",
    "Online GPA (spring 2021),\n",
    "Average hours of social media usage per day,\n",
    "Changes in social media consumption during online vs in-Person,\n",
    "Whether or not social media is used during class.,\n",
    "Preferred learning styles of participants.,\n",
    "Amount of sleep participants average per day,\n",
    "On average, how many hours do you watch movies/shows per week?,\n",
    "On average, how many hours do you work at a paid job per week?,\n",
    "Average hours studying"
   ]
  },
  {
   "cell_type": "markdown",
   "metadata": {},
   "source": [
    "#QUESTION 2: What would we like to know?\n",
    "\n",
    "We want to find out whether or not social media usage affects overall student performance.\n"
   ]
  },
  {
   "cell_type": "markdown",
   "metadata": {},
   "source": [
    "#QUESTION 3: Explore the Data"
   ]
  },
  {
   "cell_type": "code",
   "execution_count": 2,
   "metadata": {},
   "outputs": [
    {
     "data": {
      "text/html": [
       "<div>\n",
       "<style scoped>\n",
       "    .dataframe tbody tr th:only-of-type {\n",
       "        vertical-align: middle;\n",
       "    }\n",
       "\n",
       "    .dataframe tbody tr th {\n",
       "        vertical-align: top;\n",
       "    }\n",
       "\n",
       "    .dataframe thead th {\n",
       "        text-align: right;\n",
       "    }\n",
       "</style>\n",
       "<table border=\"1\" class=\"dataframe\">\n",
       "  <thead>\n",
       "    <tr style=\"text-align: right;\">\n",
       "      <th></th>\n",
       "      <th>index</th>\n",
       "      <th>What is your current GPA?</th>\n",
       "      <th>What was your GPA in Fall 2021?</th>\n",
       "      <th>What was your GPA in Spring 2021?</th>\n",
       "      <th>On average, how many hours do you study per day?</th>\n",
       "      <th>On average, how many hours do you use social media per day?</th>\n",
       "      <th>On average, how many hours of free time do you have per week?</th>\n",
       "      <th>My social media consumption increased during online school vs. person learning.</th>\n",
       "      <th>I use social media during class.</th>\n",
       "      <th>On average, how many hours do you work at a paid job per week?</th>\n",
       "      <th>What is your learning style?</th>\n",
       "      <th>On average, how many hours do you sleep per day?</th>\n",
       "      <th>On average, how many hours do you watch movies/shows per week?</th>\n",
       "    </tr>\n",
       "  </thead>\n",
       "  <tbody>\n",
       "    <tr>\n",
       "      <th>0</th>\n",
       "      <td>0</td>\n",
       "      <td>3.50 to 4.00</td>\n",
       "      <td>3.50 to 4.00</td>\n",
       "      <td>3.50 to 4.00</td>\n",
       "      <td>2.0</td>\n",
       "      <td>12.0</td>\n",
       "      <td>60.0</td>\n",
       "      <td>4.0</td>\n",
       "      <td>4.0</td>\n",
       "      <td>0.0</td>\n",
       "      <td>Kinesthetic (hands-on)</td>\n",
       "      <td>7.0</td>\n",
       "      <td>5.0</td>\n",
       "    </tr>\n",
       "    <tr>\n",
       "      <th>1</th>\n",
       "      <td>1</td>\n",
       "      <td>3.50 to 4.00</td>\n",
       "      <td>3.50 to 4.00</td>\n",
       "      <td>3.50 to 4.00</td>\n",
       "      <td>5.0</td>\n",
       "      <td>1.0</td>\n",
       "      <td>20.0</td>\n",
       "      <td>3.0</td>\n",
       "      <td>1.0</td>\n",
       "      <td>0.0</td>\n",
       "      <td>Visual</td>\n",
       "      <td>6.0</td>\n",
       "      <td>4.0</td>\n",
       "    </tr>\n",
       "    <tr>\n",
       "      <th>2</th>\n",
       "      <td>3</td>\n",
       "      <td>3.50 to 4.00</td>\n",
       "      <td>3.50 to 4.00</td>\n",
       "      <td>3.50 to 4.00</td>\n",
       "      <td>8.0</td>\n",
       "      <td>1.0</td>\n",
       "      <td>10.0</td>\n",
       "      <td>2.0</td>\n",
       "      <td>2.0</td>\n",
       "      <td>15.0</td>\n",
       "      <td>Kinesthetic (hands-on)</td>\n",
       "      <td>6.0</td>\n",
       "      <td>6.0</td>\n",
       "    </tr>\n",
       "    <tr>\n",
       "      <th>3</th>\n",
       "      <td>5</td>\n",
       "      <td>3.50 to 4.00</td>\n",
       "      <td>3.50 to 4.00</td>\n",
       "      <td>3.50 to 4.00</td>\n",
       "      <td>1.0</td>\n",
       "      <td>4.0</td>\n",
       "      <td>20.0</td>\n",
       "      <td>5.0</td>\n",
       "      <td>4.0</td>\n",
       "      <td>0.0</td>\n",
       "      <td>Visual</td>\n",
       "      <td>7.0</td>\n",
       "      <td>5.0</td>\n",
       "    </tr>\n",
       "    <tr>\n",
       "      <th>4</th>\n",
       "      <td>7</td>\n",
       "      <td>2.50 to 2.99</td>\n",
       "      <td>2.50 to 2.99</td>\n",
       "      <td>2.50 to 2.99</td>\n",
       "      <td>5.0</td>\n",
       "      <td>2.0</td>\n",
       "      <td>8.0</td>\n",
       "      <td>3.0</td>\n",
       "      <td>2.0</td>\n",
       "      <td>20.0</td>\n",
       "      <td>Kinesthetic (hands-on)</td>\n",
       "      <td>4.0</td>\n",
       "      <td>2.0</td>\n",
       "    </tr>\n",
       "    <tr>\n",
       "      <th>...</th>\n",
       "      <td>...</td>\n",
       "      <td>...</td>\n",
       "      <td>...</td>\n",
       "      <td>...</td>\n",
       "      <td>...</td>\n",
       "      <td>...</td>\n",
       "      <td>...</td>\n",
       "      <td>...</td>\n",
       "      <td>...</td>\n",
       "      <td>...</td>\n",
       "      <td>...</td>\n",
       "      <td>...</td>\n",
       "      <td>...</td>\n",
       "    </tr>\n",
       "    <tr>\n",
       "      <th>64</th>\n",
       "      <td>74</td>\n",
       "      <td>3.50 to 4.00</td>\n",
       "      <td>3.50 to 4.00</td>\n",
       "      <td>3.50 to 4.00</td>\n",
       "      <td>3.0</td>\n",
       "      <td>1.0</td>\n",
       "      <td>20.0</td>\n",
       "      <td>3.0</td>\n",
       "      <td>3.0</td>\n",
       "      <td>0.0</td>\n",
       "      <td>Visual</td>\n",
       "      <td>7.0</td>\n",
       "      <td>10.0</td>\n",
       "    </tr>\n",
       "    <tr>\n",
       "      <th>65</th>\n",
       "      <td>75</td>\n",
       "      <td>3.00 to 3.49</td>\n",
       "      <td>3.00 to 3.49</td>\n",
       "      <td>3.00 to 3.49</td>\n",
       "      <td>5.0</td>\n",
       "      <td>2.0</td>\n",
       "      <td>4.0</td>\n",
       "      <td>5.0</td>\n",
       "      <td>3.0</td>\n",
       "      <td>20.0</td>\n",
       "      <td>Kinesthetic (hands-on)</td>\n",
       "      <td>8.0</td>\n",
       "      <td>2.0</td>\n",
       "    </tr>\n",
       "    <tr>\n",
       "      <th>66</th>\n",
       "      <td>76</td>\n",
       "      <td>3.00 to 3.49</td>\n",
       "      <td>3.00 to 3.49</td>\n",
       "      <td>3.00 to 3.49</td>\n",
       "      <td>5.0</td>\n",
       "      <td>5.0</td>\n",
       "      <td>30.0</td>\n",
       "      <td>4.0</td>\n",
       "      <td>4.0</td>\n",
       "      <td>30.0</td>\n",
       "      <td>Kinesthetic (hands-on)</td>\n",
       "      <td>8.0</td>\n",
       "      <td>9.0</td>\n",
       "    </tr>\n",
       "    <tr>\n",
       "      <th>67</th>\n",
       "      <td>77</td>\n",
       "      <td>3.50 to 4.00</td>\n",
       "      <td>3.50 to 4.00</td>\n",
       "      <td>3.50 to 4.00</td>\n",
       "      <td>2.0</td>\n",
       "      <td>2.0</td>\n",
       "      <td>15.0</td>\n",
       "      <td>4.0</td>\n",
       "      <td>1.0</td>\n",
       "      <td>0.0</td>\n",
       "      <td>Kinesthetic (hands-on)</td>\n",
       "      <td>6.0</td>\n",
       "      <td>8.0</td>\n",
       "    </tr>\n",
       "    <tr>\n",
       "      <th>68</th>\n",
       "      <td>78</td>\n",
       "      <td>3.50 to 4.00</td>\n",
       "      <td>3.50 to 4.00</td>\n",
       "      <td>3.50 to 4.00</td>\n",
       "      <td>4.0</td>\n",
       "      <td>2.0</td>\n",
       "      <td>8.0</td>\n",
       "      <td>3.0</td>\n",
       "      <td>3.0</td>\n",
       "      <td>5.0</td>\n",
       "      <td>Reading and Writing</td>\n",
       "      <td>6.0</td>\n",
       "      <td>10.0</td>\n",
       "    </tr>\n",
       "  </tbody>\n",
       "</table>\n",
       "<p>69 rows × 13 columns</p>\n",
       "</div>"
      ],
      "text/plain": [
       "    index What is your current GPA? What was your GPA in Fall 2021?  \\\n",
       "0       0              3.50 to 4.00                    3.50 to 4.00   \n",
       "1       1              3.50 to 4.00                    3.50 to 4.00   \n",
       "2       3              3.50 to 4.00                    3.50 to 4.00   \n",
       "3       5              3.50 to 4.00                    3.50 to 4.00   \n",
       "4       7              2.50 to 2.99                    2.50 to 2.99   \n",
       "..    ...                       ...                             ...   \n",
       "64     74              3.50 to 4.00                    3.50 to 4.00   \n",
       "65     75              3.00 to 3.49                    3.00 to 3.49   \n",
       "66     76              3.00 to 3.49                    3.00 to 3.49   \n",
       "67     77              3.50 to 4.00                    3.50 to 4.00   \n",
       "68     78              3.50 to 4.00                    3.50 to 4.00   \n",
       "\n",
       "   What was your GPA in Spring 2021?  \\\n",
       "0                       3.50 to 4.00   \n",
       "1                       3.50 to 4.00   \n",
       "2                       3.50 to 4.00   \n",
       "3                       3.50 to 4.00   \n",
       "4                       2.50 to 2.99   \n",
       "..                               ...   \n",
       "64                      3.50 to 4.00   \n",
       "65                      3.00 to 3.49   \n",
       "66                      3.00 to 3.49   \n",
       "67                      3.50 to 4.00   \n",
       "68                      3.50 to 4.00   \n",
       "\n",
       "    On average, how many hours do you study per day?  \\\n",
       "0                                                2.0   \n",
       "1                                                5.0   \n",
       "2                                                8.0   \n",
       "3                                                1.0   \n",
       "4                                                5.0   \n",
       "..                                               ...   \n",
       "64                                               3.0   \n",
       "65                                               5.0   \n",
       "66                                               5.0   \n",
       "67                                               2.0   \n",
       "68                                               4.0   \n",
       "\n",
       "    On average, how many hours do you use social media per day?  \\\n",
       "0                                                12.0             \n",
       "1                                                 1.0             \n",
       "2                                                 1.0             \n",
       "3                                                 4.0             \n",
       "4                                                 2.0             \n",
       "..                                                ...             \n",
       "64                                                1.0             \n",
       "65                                                2.0             \n",
       "66                                                5.0             \n",
       "67                                                2.0             \n",
       "68                                                2.0             \n",
       "\n",
       "    On average, how many hours of free time do you have per week?  \\\n",
       "0                                                60.0               \n",
       "1                                                20.0               \n",
       "2                                                10.0               \n",
       "3                                                20.0               \n",
       "4                                                 8.0               \n",
       "..                                                ...               \n",
       "64                                               20.0               \n",
       "65                                                4.0               \n",
       "66                                               30.0               \n",
       "67                                               15.0               \n",
       "68                                                8.0               \n",
       "\n",
       "    My social media consumption increased during online school vs. person learning.  \\\n",
       "0                                                 4.0                                 \n",
       "1                                                 3.0                                 \n",
       "2                                                 2.0                                 \n",
       "3                                                 5.0                                 \n",
       "4                                                 3.0                                 \n",
       "..                                                ...                                 \n",
       "64                                                3.0                                 \n",
       "65                                                5.0                                 \n",
       "66                                                4.0                                 \n",
       "67                                                4.0                                 \n",
       "68                                                3.0                                 \n",
       "\n",
       "    I use social media during class.  \\\n",
       "0                                4.0   \n",
       "1                                1.0   \n",
       "2                                2.0   \n",
       "3                                4.0   \n",
       "4                                2.0   \n",
       "..                               ...   \n",
       "64                               3.0   \n",
       "65                               3.0   \n",
       "66                               4.0   \n",
       "67                               1.0   \n",
       "68                               3.0   \n",
       "\n",
       "    On average, how many hours do you work at a paid job per week?  \\\n",
       "0                                                 0.0                \n",
       "1                                                 0.0                \n",
       "2                                                15.0                \n",
       "3                                                 0.0                \n",
       "4                                                20.0                \n",
       "..                                                ...                \n",
       "64                                                0.0                \n",
       "65                                               20.0                \n",
       "66                                               30.0                \n",
       "67                                                0.0                \n",
       "68                                                5.0                \n",
       "\n",
       "   What is your learning style?  \\\n",
       "0        Kinesthetic (hands-on)   \n",
       "1                        Visual   \n",
       "2        Kinesthetic (hands-on)   \n",
       "3                        Visual   \n",
       "4        Kinesthetic (hands-on)   \n",
       "..                          ...   \n",
       "64                       Visual   \n",
       "65       Kinesthetic (hands-on)   \n",
       "66       Kinesthetic (hands-on)   \n",
       "67       Kinesthetic (hands-on)   \n",
       "68          Reading and Writing   \n",
       "\n",
       "    On average, how many hours do you sleep per day?  \\\n",
       "0                                                7.0   \n",
       "1                                                6.0   \n",
       "2                                                6.0   \n",
       "3                                                7.0   \n",
       "4                                                4.0   \n",
       "..                                               ...   \n",
       "64                                               7.0   \n",
       "65                                               8.0   \n",
       "66                                               8.0   \n",
       "67                                               6.0   \n",
       "68                                               6.0   \n",
       "\n",
       "    On average, how many hours do you watch movies/shows per week?  \n",
       "0                                                 5.0               \n",
       "1                                                 4.0               \n",
       "2                                                 6.0               \n",
       "3                                                 5.0               \n",
       "4                                                 2.0               \n",
       "..                                                ...               \n",
       "64                                               10.0               \n",
       "65                                                2.0               \n",
       "66                                                9.0               \n",
       "67                                                8.0               \n",
       "68                                               10.0               \n",
       "\n",
       "[69 rows x 13 columns]"
      ]
     },
     "execution_count": 2,
     "metadata": {},
     "output_type": "execute_result"
    }
   ],
   "source": [
    "import pandas as pd\n",
    "import matplotlib.pyplot as plt\n",
    "import numpy as np\n",
    "import seaborn as sns\n",
    "import scipy\n",
    "\n",
    "data = pd.read_csv(\"Responses.csv\")\n",
    "data = data[[\"What is your current GPA?\", \"What was your GPA in Fall 2021?\", \n",
    "             \"What was your GPA in Spring 2021?\",\"On average, how many hours do you study per day?\",\n",
    "            \"On average, how many hours do you use social media per day?\", \n",
    "            \"On average, how many hours of free time do you have per week?\",\n",
    "            \"My social media consumption increased during online school vs. person learning.\", \"I use social media during class.\",\n",
    "             \"On average, how many hours do you work at a paid job per week?\",\n",
    "            \"What is your learning style?\", \"On average, how many hours do you sleep per day?\",\"On average, how many hours do you watch movies/shows per week?\"]]\n",
    "data.dropna(subset=[\"What is your current GPA?\", \"What was your GPA in Fall 2021?\",\"On average, how many hours do you work at a paid job per week?\", \n",
    "             \"What was your GPA in Spring 2021?\",\"On average, how many hours do you study per day?\",\n",
    "            \"On average, how many hours do you use social media per day?\", \n",
    "            \"On average, how many hours of free time do you have per week?\",\n",
    "            \"My social media consumption increased during online school vs. person learning.\", \"I use social media during class.\",\n",
    "            \"On average, how many hours do you watch movies/shows per week?\",\n",
    "            \"What is your learning style?\", \"On average, how many hours do you sleep per day?\"], inplace= True)\n",
    "data.reset_index()"
   ]
  },
  {
   "cell_type": "markdown",
   "metadata": {},
   "source": [
    "Get only the relevant data columns from the file and clean the data so that all data values in each tuple are accounted for (no NaN)."
   ]
  },
  {
   "cell_type": "code",
   "execution_count": 3,
   "metadata": {},
   "outputs": [
    {
     "data": {
      "text/plain": [
       "<AxesSubplot:ylabel='None'>"
      ]
     },
     "execution_count": 3,
     "metadata": {},
     "output_type": "execute_result"
    },
    {
     "data": {
      "image/png": "[encoded data removed]",
      "text/plain": [
       "<Figure size 432x288 with 1 Axes>"
      ]
     },
     "metadata": {},
     "output_type": "display_data"
    }
   ],
   "source": [
    "data['avg free time per day'] = data[\"On average, how many hours of free time do you have per week?\"].div(7)\n",
    "data['avg time watching movies/shows per day'] = data[\"On average, how many hours do you watch movies/shows per week?\"].div(7)\n",
    "data['avg work time per day'] = data[\"On average, how many hours do you work at a paid job per week?\"].div(7)\n",
    "\n",
    "data.head()\n",
    "\n",
    "data2 = data[[\"On average, how many hours do you use social media per day?\",\n",
    "            \"avg time watching movies/shows per day\",\n",
    "            \"avg work time per day\", \"On average, how many hours do you study per day?\"]]\n",
    "data2 \n",
    "\n",
    "data2.mean().plot.pie()"
   ]
  },
  {
   "cell_type": "markdown",
   "metadata": {},
   "source": [
    "We used this pie chart to have a visualization of how our subjects spent their time outside of the classroom. Besides sleeping and studying for school, we see that social media is the next biggest time consumer. We wanted to see of social media usage had an affect on gpa, especially during online school."
   ]
  },
  {
   "cell_type": "code",
   "execution_count": 4,
   "metadata": {},
   "outputs": [
    {
     "data": {
      "text/plain": [
       "Text(0, 0.5, 'Average GPA')"
      ]
     },
     "execution_count": 4,
     "metadata": {},
     "output_type": "execute_result"
    },
    {
     "data": {
      "image/png": "[encoded data removed]",
      "text/plain": [
       "<Figure size 432x288 with 1 Axes>"
      ]
     },
     "metadata": {
      "needs_background": "light"
     },
     "output_type": "display_data"
    }
   ],
   "source": [
    "#bp = pd.concat([data[\"What was your GPA in Spring 2021?\"], data[\"What was your GPA in Fall 2021?\"]], axis=0)\n",
    "bp = data[\"What was your GPA in Spring 2021?\"];\n",
    "bpg = bp.value_counts().plot.bar(title = 'Spring 2021 GPA')\n",
    "bpg.set_xlabel(\"# of students\")\n",
    "bpg.set_ylabel(\"Average GPA\")\n",
    "#bp_labels = ['Spring 2021 GPA', 'Fall 2021 GPA']\n",
    "#bp = pd.DataFrame([data[\"What was your GPA in Spring 2021?\"], data[\"What was your GPA in Fall 2021?\"]], index=bp_labels)\n",
    "#bp.count().plot.bar()\n",
    "#bp.groupby(\"What was your GPA in Spring 2021?\").count().plot.bar()\n",
    "#wnh = df.loc[df[\"Ethnicity\"] == \"White not Hispanic\"]\n",
    "#wnh.groupby(\"Age Cohort\").count()[\"Age\"].plot.bar()"
   ]
  },
  {
   "cell_type": "code",
   "execution_count": 5,
   "metadata": {},
   "outputs": [
    {
     "data": {
      "text/plain": [
       "Text(0, 0.5, 'Average GPA')"
      ]
     },
     "execution_count": 5,
     "metadata": {},
     "output_type": "execute_result"
    },
    {
     "data": {
      "image/png": "[encoded data removed]",
      "text/plain": [
       "<Figure size 432x288 with 1 Axes>"
      ]
     },
     "metadata": {
      "needs_background": "light"
     },
     "output_type": "display_data"
    }
   ],
   "source": [
    "bp2 = data[\"What was your GPA in Fall 2021?\"];\n",
    "bpg2 = bp.value_counts().plot.bar(title = 'Fall 2021 GPA')\n",
    "bpg2.set_xlabel(\"# of students\")\n",
    "bpg2.set_ylabel(\"Average GPA\")"
   ]
  },
  {
   "cell_type": "code",
   "execution_count": 6,
   "metadata": {},
   "outputs": [
    {
     "data": {
      "image/png": "[encoded data removed]",
      "text/plain": [
       "<Figure size 432x288 with 1 Axes>"
      ]
     },
     "metadata": {
      "needs_background": "light"
     },
     "output_type": "display_data"
    }
   ],
   "source": [
    "histo = data.hist(column=\"My social media consumption increased during online school vs. person learning.\",bins=5)"
   ]
  },
  {
   "cell_type": "code",
   "execution_count": 7,
   "metadata": {},
   "outputs": [
    {
     "data": {
      "text/plain": [
       "0     3.50 to 4.00\n",
       "1     3.50 to 4.00\n",
       "3     3.50 to 4.00\n",
       "5     3.50 to 4.00\n",
       "7     2.50 to 2.99\n",
       "          ...     \n",
       "74    3.50 to 4.00\n",
       "75    3.00 to 3.49\n",
       "76    3.00 to 3.49\n",
       "77    3.50 to 4.00\n",
       "78    3.50 to 4.00\n",
       "Name: What is your current GPA?, Length: 69, dtype: object"
      ]
     },
     "execution_count": 7,
     "metadata": {},
     "output_type": "execute_result"
    }
   ],
   "source": [
    "ov_gpa = data[\"What is your current GPA?\"]\n",
    "ov_gpa"
   ]
  },
  {
   "cell_type": "code",
   "execution_count": 8,
   "metadata": {},
   "outputs": [
    {
     "data": {
      "text/plain": [
       "Text(0.5, 1.0, 'Social Media Usage vs Overall Current GPA')"
      ]
     },
     "execution_count": 8,
     "metadata": {},
     "output_type": "execute_result"
    },
    {
     "data": {
      "image/png": "[encoded data removed]",
      "text/plain": [
       "<Figure size 432x288 with 1 Axes>"
      ]
     },
     "metadata": {
      "needs_background": "light"
     },
     "output_type": "display_data"
    }
   ],
   "source": [
    "ov_gpa = data[\"What is your current GPA?\"]\n",
    "sm_avg = data[\"On average, how many hours do you use social media per day?\"]\n",
    "df2 = data[[\"What is your current GPA?\", \"On average, how many hours do you use social media per day?\"]].copy()\n",
    "gpavsm = sns.barplot(x = ov_gpa, y = sm_avg);\n",
    "gpavsm.set_title(\"Social Media Usage vs Overall Current GPA\")"
   ]
  },
  {
   "cell_type": "code",
   "execution_count": 9,
   "metadata": {},
   "outputs": [
    {
     "data": {
      "text/html": [
       "<div>\n",
       "<style scoped>\n",
       "    .dataframe tbody tr th:only-of-type {\n",
       "        vertical-align: middle;\n",
       "    }\n",
       "\n",
       "    .dataframe tbody tr th {\n",
       "        vertical-align: top;\n",
       "    }\n",
       "\n",
       "    .dataframe thead th {\n",
       "        text-align: right;\n",
       "    }\n",
       "</style>\n",
       "<table border=\"1\" class=\"dataframe\">\n",
       "  <thead>\n",
       "    <tr style=\"text-align: right;\">\n",
       "      <th></th>\n",
       "      <th>On average, how many hours do you study per day?</th>\n",
       "      <th>On average, how many hours do you use social media per day?</th>\n",
       "    </tr>\n",
       "  </thead>\n",
       "  <tbody>\n",
       "    <tr>\n",
       "      <th>0</th>\n",
       "      <td>2.0</td>\n",
       "      <td>12.0</td>\n",
       "    </tr>\n",
       "    <tr>\n",
       "      <th>1</th>\n",
       "      <td>5.0</td>\n",
       "      <td>1.0</td>\n",
       "    </tr>\n",
       "    <tr>\n",
       "      <th>3</th>\n",
       "      <td>8.0</td>\n",
       "      <td>1.0</td>\n",
       "    </tr>\n",
       "    <tr>\n",
       "      <th>5</th>\n",
       "      <td>1.0</td>\n",
       "      <td>4.0</td>\n",
       "    </tr>\n",
       "    <tr>\n",
       "      <th>7</th>\n",
       "      <td>5.0</td>\n",
       "      <td>2.0</td>\n",
       "    </tr>\n",
       "    <tr>\n",
       "      <th>...</th>\n",
       "      <td>...</td>\n",
       "      <td>...</td>\n",
       "    </tr>\n",
       "    <tr>\n",
       "      <th>74</th>\n",
       "      <td>3.0</td>\n",
       "      <td>1.0</td>\n",
       "    </tr>\n",
       "    <tr>\n",
       "      <th>75</th>\n",
       "      <td>5.0</td>\n",
       "      <td>2.0</td>\n",
       "    </tr>\n",
       "    <tr>\n",
       "      <th>76</th>\n",
       "      <td>5.0</td>\n",
       "      <td>5.0</td>\n",
       "    </tr>\n",
       "    <tr>\n",
       "      <th>77</th>\n",
       "      <td>2.0</td>\n",
       "      <td>2.0</td>\n",
       "    </tr>\n",
       "    <tr>\n",
       "      <th>78</th>\n",
       "      <td>4.0</td>\n",
       "      <td>2.0</td>\n",
       "    </tr>\n",
       "  </tbody>\n",
       "</table>\n",
       "<p>69 rows × 2 columns</p>\n",
       "</div>"
      ],
      "text/plain": [
       "    On average, how many hours do you study per day?  \\\n",
       "0                                                2.0   \n",
       "1                                                5.0   \n",
       "3                                                8.0   \n",
       "5                                                1.0   \n",
       "7                                                5.0   \n",
       "..                                               ...   \n",
       "74                                               3.0   \n",
       "75                                               5.0   \n",
       "76                                               5.0   \n",
       "77                                               2.0   \n",
       "78                                               4.0   \n",
       "\n",
       "    On average, how many hours do you use social media per day?  \n",
       "0                                                12.0            \n",
       "1                                                 1.0            \n",
       "3                                                 1.0            \n",
       "5                                                 4.0            \n",
       "7                                                 2.0            \n",
       "..                                                ...            \n",
       "74                                                1.0            \n",
       "75                                                2.0            \n",
       "76                                                5.0            \n",
       "77                                                2.0            \n",
       "78                                                2.0            \n",
       "\n",
       "[69 rows x 2 columns]"
      ]
     },
     "execution_count": 9,
     "metadata": {},
     "output_type": "execute_result"
    },
    {
     "data": {
      "image/png": "[encoded data removed]",
      "text/plain": [
       "<Figure size 432x288 with 1 Axes>"
      ]
     },
     "metadata": {
      "needs_background": "light"
     },
     "output_type": "display_data"
    }
   ],
   "source": [
    "study = data[\"On average, how many hours do you study per day?\"]\n",
    "sm_avg = data[\"On average, how many hours do you use social media per day?\"]\n",
    "\n",
    "df = data[[\"On average, how many hours do you study per day?\", \"On average, how many hours do you use social media per day?\"]].copy()\n",
    "\n",
    "sleepvsm = sns.lineplot(y = study, x = sm_avg);\n",
    "sleepvsm.set_title(\"Social Media Usage per Day vs Avg Hours Studied Per Day\")\n",
    "\n",
    "df \n"
   ]
  },
  {
   "cell_type": "code",
   "execution_count": 10,
   "metadata": {},
   "outputs": [
    {
     "data": {
      "text/plain": [
       "Text(0, 0.5, 'Average GPA')"
      ]
     },
     "execution_count": 10,
     "metadata": {},
     "output_type": "execute_result"
    },
    {
     "data": {
      "image/png": "[encoded data removed]",
      "text/plain": [
       "<Figure size 432x288 with 1 Axes>"
      ]
     },
     "metadata": {
      "needs_background": "light"
     },
     "output_type": "display_data"
    }
   ],
   "source": [
    "data['What was your GPA in Spring 2021?'] = data['What was your GPA in Spring 2021?'].replace('1.00 to 1.49', 1.245, regex=False)\n",
    "data['What was your GPA in Spring 2021?'] = data['What was your GPA in Spring 2021?'].replace('1.50 to 1.99', 1.745, regex=False)\n",
    "data['What was your GPA in Spring 2021?'] = data['What was your GPA in Spring 2021?'].replace('2.00 to 2.49', 2.245, regex=False)\n",
    "data['What was your GPA in Spring 2021?'] = data['What was your GPA in Spring 2021?'].replace('2.50 to 2.99', 2.745, regex=False)\n",
    "data['What was your GPA in Spring 2021?'] = data['What was your GPA in Spring 2021?'].replace('3.00 to 3.49', 3.245, regex=False)\n",
    "data['What was your GPA in Spring 2021?'] = data['What was your GPA in Spring 2021?'].replace('3.50 to 4.00', 3.745, regex=False)\n",
    "\n",
    "data['What was your GPA in Fall 2021?'] = data['What was your GPA in Fall 2021?'].replace('1.00 to 1.49', 1.245, regex=False)\n",
    "data['What was your GPA in Fall 2021?'] = data['What was your GPA in Fall 2021?'].replace('1.50 to 1.99', 1.745, regex=False)\n",
    "data['What was your GPA in Fall 2021?'] = data['What was your GPA in Fall 2021?'].replace('2.00 to 2.49', 2.245, regex=False)\n",
    "data['What was your GPA in Fall 2021?'] = data['What was your GPA in Fall 2021?'].replace('2.50 to 2.99', 2.745, regex=False)\n",
    "data['What was your GPA in Fall 2021?'] = data['What was your GPA in Fall 2021?'].replace('3.00 to 3.49', 3.245, regex=False)\n",
    "data['What was your GPA in Fall 2021?'] = data['What was your GPA in Fall 2021?'].replace('3.50 to 4.00', 3.745, regex=False)\n",
    "\n",
    "qtrgpa = data.pivot_table(values=[\"What was your GPA in Spring 2021?\",\"What was your GPA in Fall 2021?\"], \n",
    "                 index=[\"My social media consumption increased during online school vs. person learning.\"],aggfunc=np.mean).plot.bar()\n",
    "qtrgpa.set_xlabel(\"Use of Social media after online conversion\")\n",
    "qtrgpa.set_ylabel(\"Average GPA\")"
   ]
  },
  {
   "cell_type": "markdown",
   "metadata": {},
   "source": [
    "#QUESTION 4: Can you state any hypotheses or make some predictions? Which tests can you apply to verify your hypothesis?"
   ]
  },
  {
   "cell_type": "markdown",
   "metadata": {},
   "source": [
    "Hypothesis #1: Heavy social media usage during class negatively affects academic performance (Test for correlation between levels of social media usage in class vs. Overall GPA)"
   ]
  },
  {
   "cell_type": "markdown",
   "metadata": {},
   "source": [
    "Hypothesis #2: Fall qtr (in person/hybrid) academic performance better than spring qtr (online) academic performance for people whose social media usage did increase during covid (given that social media usage did increase, test between fall and spring GPAs) "
   ]
  },
  {
   "cell_type": "markdown",
   "metadata": {},
   "source": [
    "Hypothesis #3: Heavy social media usage can conflict with how much time someone studies."
   ]
  },
  {
   "cell_type": "markdown",
   "metadata": {},
   "source": [
    "#QUESTION 5: Test your Hypotheses"
   ]
  },
  {
   "cell_type": "code",
   "execution_count": 11,
   "metadata": {
    "tags": []
   },
   "outputs": [
    {
     "data": {
      "text/html": [
       "<div>\n",
       "<style scoped>\n",
       "    .dataframe tbody tr th:only-of-type {\n",
       "        vertical-align: middle;\n",
       "    }\n",
       "\n",
       "    .dataframe tbody tr th {\n",
       "        vertical-align: top;\n",
       "    }\n",
       "\n",
       "    .dataframe thead th {\n",
       "        text-align: right;\n",
       "    }\n",
       "</style>\n",
       "<table border=\"1\" class=\"dataframe\">\n",
       "  <thead>\n",
       "    <tr style=\"text-align: right;\">\n",
       "      <th>What is your current GPA?</th>\n",
       "      <th>2.50 to 2.99</th>\n",
       "      <th>3.00 to 3.49</th>\n",
       "      <th>3.50 to 4.00</th>\n",
       "    </tr>\n",
       "    <tr>\n",
       "      <th>On average, how many hours do you use social media per day?</th>\n",
       "      <th></th>\n",
       "      <th></th>\n",
       "      <th></th>\n",
       "    </tr>\n",
       "  </thead>\n",
       "  <tbody>\n",
       "    <tr>\n",
       "      <th>low</th>\n",
       "      <td>1</td>\n",
       "      <td>5</td>\n",
       "      <td>41</td>\n",
       "    </tr>\n",
       "    <tr>\n",
       "      <th>medium</th>\n",
       "      <td>0</td>\n",
       "      <td>1</td>\n",
       "      <td>8</td>\n",
       "    </tr>\n",
       "    <tr>\n",
       "      <th>high</th>\n",
       "      <td>0</td>\n",
       "      <td>2</td>\n",
       "      <td>4</td>\n",
       "    </tr>\n",
       "  </tbody>\n",
       "</table>\n",
       "</div>"
      ],
      "text/plain": [
       "What is your current GPA?                           2.50 to 2.99  \\\n",
       "On average, how many hours do you use social me...                 \n",
       "low                                                            1   \n",
       "medium                                                         0   \n",
       "high                                                           0   \n",
       "\n",
       "What is your current GPA?                           3.00 to 3.49  3.50 to 4.00  \n",
       "On average, how many hours do you use social me...                              \n",
       "low                                                            5            41  \n",
       "medium                                                         1             8  \n",
       "high                                                           2             4  "
      ]
     },
     "execution_count": 11,
     "metadata": {},
     "output_type": "execute_result"
    }
   ],
   "source": [
    "smusage = pd.cut(data[\"On average, how many hours do you use social media per day?\"],bins=[0,3,6,15],labels=['low','medium','high'])\n",
    "GPAvSM = pd.crosstab(data[\"What is your current GPA?\"], smusage).T\n",
    "GPAvSM"
   ]
  },
  {
   "cell_type": "code",
   "execution_count": 12,
   "metadata": {},
   "outputs": [
    {
     "name": "stdout",
     "output_type": "stream",
     "text": [
      "chi square value:  2.746844194656318\n",
      "expected frequencies when condition and age is independent:  [[ 0.75806452  6.06451613 40.17741935]\n",
      " [ 0.14516129  1.16129032  7.69354839]\n",
      " [ 0.09677419  0.77419355  5.12903226]]\n",
      "for 4 degrees of freedom, the chi-square valued needed to reject the hypothesis at the 0.05 significance level:\n"
     ]
    },
    {
     "data": {
      "text/plain": [
       "9.487729036781154"
      ]
     },
     "execution_count": 12,
     "metadata": {},
     "output_type": "execute_result"
    }
   ],
   "source": [
    "from scipy.stats import chi2_contingency\n",
    "chi, p, dfree, expected = chi2_contingency(GPAvSM)\n",
    "print(\"chi square value: \" ,chi)\n",
    "print(\"expected frequencies when condition and age is independent: \", expected)\n",
    "from scipy.stats import chi2\n",
    "print(\"for 4 degrees of freedom, the chi-square valued needed to reject the hypothesis at the 0.05 significance level:\")\n",
    "chi2.ppf(0.95, 4)"
   ]
  },
  {
   "cell_type": "markdown",
   "metadata": {},
   "source": [
    "We did a chi-squared test to test if the current GPA of students was independent of how many hours of social media they used per day. \n",
    "Our null hypothesis was that GPA and social media usage are independent. With 3 rows of GPA intervals and 3 degrees of daily social media usage, our degrees of freedom is (3-1)(3-1)\n",
    "With 4 degrees of freedom, a significance level of 0.05, and a chi square value of ~9.49, since our test statistic is 2.75, we accept the null hypothesis and GPA and daily social media usage are independent. "
   ]
  },
  {
   "cell_type": "markdown",
   "metadata": {},
   "source": [
    "CORREALATION TEST: given they rated 4 and 5, did their gpa decrease bc of social media use in either quarter"
   ]
  },
  {
   "cell_type": "code",
   "execution_count": 13,
   "metadata": {},
   "outputs": [
    {
     "data": {
      "text/html": [
       "<div>\n",
       "<style scoped>\n",
       "    .dataframe tbody tr th:only-of-type {\n",
       "        vertical-align: middle;\n",
       "    }\n",
       "\n",
       "    .dataframe tbody tr th {\n",
       "        vertical-align: top;\n",
       "    }\n",
       "\n",
       "    .dataframe thead th {\n",
       "        text-align: right;\n",
       "    }\n",
       "</style>\n",
       "<table border=\"1\" class=\"dataframe\">\n",
       "  <thead>\n",
       "    <tr style=\"text-align: right;\">\n",
       "      <th></th>\n",
       "      <th>What was your GPA in Fall 2021?</th>\n",
       "      <th>On average, how many hours do you use social media per day?</th>\n",
       "    </tr>\n",
       "  </thead>\n",
       "  <tbody>\n",
       "    <tr>\n",
       "      <th>What was your GPA in Fall 2021?</th>\n",
       "      <td>1.000000</td>\n",
       "      <td>0.044539</td>\n",
       "    </tr>\n",
       "    <tr>\n",
       "      <th>On average, how many hours do you use social media per day?</th>\n",
       "      <td>0.044539</td>\n",
       "      <td>1.000000</td>\n",
       "    </tr>\n",
       "  </tbody>\n",
       "</table>\n",
       "</div>"
      ],
      "text/plain": [
       "                                                    What was your GPA in Fall 2021?  \\\n",
       "What was your GPA in Fall 2021?                                            1.000000   \n",
       "On average, how many hours do you use social me...                         0.044539   \n",
       "\n",
       "                                                    On average, how many hours do you use social media per day?  \n",
       "What was your GPA in Fall 2021?                                                              0.044539            \n",
       "On average, how many hours do you use social me...                                           1.000000            "
      ]
     },
     "execution_count": 13,
     "metadata": {},
     "output_type": "execute_result"
    }
   ],
   "source": [
    "data3 = data[[\"What was your GPA in Fall 2021?\", \"On average, how many hours do you use social media per day?\",\n",
    "              \"My social media consumption increased during online school vs. person learning.\"]]\n",
    "\n",
    "data3 = data3.drop(data3.loc[data3[\"My social media consumption increased during online school vs. person learning.\"] < 4].index,\n",
    "                  inplace=False, axis=0)\n",
    "\n",
    "data3 = data3[[\"What was your GPA in Fall 2021?\", \"On average, how many hours do you use social media per day?\"]]\n",
    "\n",
    "corr = data3.corr(method = 'pearson')\n",
    "corr"
   ]
  },
  {
   "cell_type": "code",
   "execution_count": 14,
   "metadata": {},
   "outputs": [
    {
     "data": {
      "text/html": [
       "<div>\n",
       "<style scoped>\n",
       "    .dataframe tbody tr th:only-of-type {\n",
       "        vertical-align: middle;\n",
       "    }\n",
       "\n",
       "    .dataframe tbody tr th {\n",
       "        vertical-align: top;\n",
       "    }\n",
       "\n",
       "    .dataframe thead th {\n",
       "        text-align: right;\n",
       "    }\n",
       "</style>\n",
       "<table border=\"1\" class=\"dataframe\">\n",
       "  <thead>\n",
       "    <tr style=\"text-align: right;\">\n",
       "      <th></th>\n",
       "      <th>What was your GPA in Spring 2021?</th>\n",
       "      <th>On average, how many hours do you use social media per day?</th>\n",
       "    </tr>\n",
       "  </thead>\n",
       "  <tbody>\n",
       "    <tr>\n",
       "      <th>What was your GPA in Spring 2021?</th>\n",
       "      <td>1.000000</td>\n",
       "      <td>0.066071</td>\n",
       "    </tr>\n",
       "    <tr>\n",
       "      <th>On average, how many hours do you use social media per day?</th>\n",
       "      <td>0.066071</td>\n",
       "      <td>1.000000</td>\n",
       "    </tr>\n",
       "  </tbody>\n",
       "</table>\n",
       "</div>"
      ],
      "text/plain": [
       "                                                    What was your GPA in Spring 2021?  \\\n",
       "What was your GPA in Spring 2021?                                            1.000000   \n",
       "On average, how many hours do you use social me...                           0.066071   \n",
       "\n",
       "                                                    On average, how many hours do you use social media per day?  \n",
       "What was your GPA in Spring 2021?                                                            0.066071            \n",
       "On average, how many hours do you use social me...                                           1.000000            "
      ]
     },
     "execution_count": 14,
     "metadata": {},
     "output_type": "execute_result"
    }
   ],
   "source": [
    "data4 = data[[\"What was your GPA in Spring 2021?\", \"On average, how many hours do you use social media per day?\",\n",
    "             \"My social media consumption increased during online school vs. person learning.\"]]\n",
    "\n",
    "data4 = data4.drop(data4.loc[data4[\"My social media consumption increased during online school vs. person learning.\"] < 4].index,\n",
    "                  inplace=False, axis=0)\n",
    "\n",
    "data4 = data4[[\"What was your GPA in Spring 2021?\", \"On average, how many hours do you use social media per day?\"]]\n",
    "\n",
    "corr2 = data4.corr(method = 'pearson')\n",
    "corr2"
   ]
  },
  {
   "cell_type": "markdown",
   "metadata": {},
   "source": [
    "Given that a student rated 4 and 5 for the question \"My social media consumption increased during online school vs. person learning.\", we want to see whether their gpa decreased for online quarters. We calcualted the pearson correlation between average hours spent on social media and gpa for Fall quarter, and average hours spent on social media and gpa for Spring quarter. Given the correlation values of 0.049237 for Fall Quarter (aka the in-person quarter) and the 0.069805 for the Spring quarter (online quarter), we can conlcude there is no correlation since neither value is close to 1."
   ]
  },
  {
   "cell_type": "code",
   "execution_count": 15,
   "metadata": {},
   "outputs": [
    {
     "name": "stdout",
     "output_type": "stream",
     "text": [
      "Full Dataset\n"
     ]
    },
    {
     "data": {
      "text/html": [
       "<div>\n",
       "<style scoped>\n",
       "    .dataframe tbody tr th:only-of-type {\n",
       "        vertical-align: middle;\n",
       "    }\n",
       "\n",
       "    .dataframe tbody tr th {\n",
       "        vertical-align: top;\n",
       "    }\n",
       "\n",
       "    .dataframe thead th {\n",
       "        text-align: right;\n",
       "    }\n",
       "</style>\n",
       "<table border=\"1\" class=\"dataframe\">\n",
       "  <thead>\n",
       "    <tr style=\"text-align: right;\">\n",
       "      <th></th>\n",
       "      <th>On average, how many hours do you study per day?</th>\n",
       "      <th>On average, how many hours do you use social media per day?</th>\n",
       "    </tr>\n",
       "  </thead>\n",
       "  <tbody>\n",
       "    <tr>\n",
       "      <th>On average, how many hours do you study per day?</th>\n",
       "      <td>1.000000</td>\n",
       "      <td>-0.016036</td>\n",
       "    </tr>\n",
       "    <tr>\n",
       "      <th>On average, how many hours do you use social media per day?</th>\n",
       "      <td>-0.016036</td>\n",
       "      <td>1.000000</td>\n",
       "    </tr>\n",
       "  </tbody>\n",
       "</table>\n",
       "</div>"
      ],
      "text/plain": [
       "                                                    On average, how many hours do you study per day?  \\\n",
       "On average, how many hours do you study per day?                                            1.000000   \n",
       "On average, how many hours do you use social me...                                         -0.016036   \n",
       "\n",
       "                                                    On average, how many hours do you use social media per day?  \n",
       "On average, how many hours do you study per day?                                            -0.016036            \n",
       "On average, how many hours do you use social me...                                           1.000000            "
      ]
     },
     "execution_count": 15,
     "metadata": {},
     "output_type": "execute_result"
    }
   ],
   "source": [
    "print(\"Full Dataset\")\n",
    "corr = df.corr(method = 'pearson')\n",
    "corr"
   ]
  },
  {
   "cell_type": "markdown",
   "metadata": {},
   "source": [
    "Conclusion: The correlation between social media usage per day vs study hours per day is -0.016036, which is very close to 0, so social media usage and study hours per day is not correlated at all."
   ]
  },
  {
   "cell_type": "code",
   "execution_count": 16,
   "metadata": {},
   "outputs": [
    {
     "name": "stdout",
     "output_type": "stream",
     "text": [
      "Toy Dataset\n"
     ]
    },
    {
     "data": {
      "text/html": [
       "<div>\n",
       "<style scoped>\n",
       "    .dataframe tbody tr th:only-of-type {\n",
       "        vertical-align: middle;\n",
       "    }\n",
       "\n",
       "    .dataframe tbody tr th {\n",
       "        vertical-align: top;\n",
       "    }\n",
       "\n",
       "    .dataframe thead th {\n",
       "        text-align: right;\n",
       "    }\n",
       "</style>\n",
       "<table border=\"1\" class=\"dataframe\">\n",
       "  <thead>\n",
       "    <tr style=\"text-align: right;\">\n",
       "      <th></th>\n",
       "      <th>On average, how many hours do you study per day?</th>\n",
       "      <th>On average, how many hours do you use social media per day?</th>\n",
       "    </tr>\n",
       "  </thead>\n",
       "  <tbody>\n",
       "    <tr>\n",
       "      <th>On average, how many hours do you study per day?</th>\n",
       "      <td>1.000000</td>\n",
       "      <td>-0.628867</td>\n",
       "    </tr>\n",
       "    <tr>\n",
       "      <th>On average, how many hours do you use social media per day?</th>\n",
       "      <td>-0.628867</td>\n",
       "      <td>1.000000</td>\n",
       "    </tr>\n",
       "  </tbody>\n",
       "</table>\n",
       "</div>"
      ],
      "text/plain": [
       "                                                    On average, how many hours do you study per day?  \\\n",
       "On average, how many hours do you study per day?                                            1.000000   \n",
       "On average, how many hours do you use social me...                                         -0.628867   \n",
       "\n",
       "                                                    On average, how many hours do you use social media per day?  \n",
       "On average, how many hours do you study per day?                                            -0.628867            \n",
       "On average, how many hours do you use social me...                                           1.000000            "
      ]
     },
     "execution_count": 16,
     "metadata": {},
     "output_type": "execute_result"
    }
   ],
   "source": [
    "df3 = df.head(4)\n",
    "print(\"Toy Dataset\")\n",
    "corr_t = df3.corr(method = 'pearson')\n",
    "corr_t"
   ]
  }
 ],
 "metadata": {
  "interpreter": {
   "hash": "94f70f3b5665f6d7a3c9109486ae305f5dcfe6989f19319757f8a1770003bc2f"
  },
  "kernelspec": {
   "display_name": "Python 3",
   "language": "python",
   "name": "python3"
  },
  "language_info": {
   "codemirror_mode": {
    "name": "ipython",
    "version": 3
   },
   "file_extension": ".py",
   "mimetype": "text/x-python",
   "name": "python",
   "nbconvert_exporter": "python",
   "pygments_lexer": "ipython3",
   "version": "3.9.7"
  }
 },
 "nbformat": 4,
 "nbformat_minor": 4
}
